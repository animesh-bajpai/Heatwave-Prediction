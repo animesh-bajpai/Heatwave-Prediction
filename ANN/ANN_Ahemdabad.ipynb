{
 "cells": [
  {
   "attachments": {},
   "cell_type": "markdown",
   "metadata": {},
   "source": [
    "#### Dependencies"
   ]
  },
  {
   "cell_type": "code",
   "execution_count": 1,
   "metadata": {},
   "outputs": [
    {
     "name": "stderr",
     "output_type": "stream",
     "text": [
      "2023-04-26 15:04:17.897453: I tensorflow/core/util/port.cc:110] oneDNN custom operations are on. You may see slightly different numerical results due to floating-point round-off errors from different computation orders. To turn them off, set the environment variable `TF_ENABLE_ONEDNN_OPTS=0`.\n",
      "2023-04-26 15:04:17.899070: I tensorflow/tsl/cuda/cudart_stub.cc:28] Could not find cuda drivers on your machine, GPU will not be used.\n",
      "2023-04-26 15:04:17.943163: I tensorflow/tsl/cuda/cudart_stub.cc:28] Could not find cuda drivers on your machine, GPU will not be used.\n",
      "2023-04-26 15:04:17.944124: I tensorflow/core/platform/cpu_feature_guard.cc:182] This TensorFlow binary is optimized to use available CPU instructions in performance-critical operations.\n",
      "To enable the following instructions: AVX2 AVX512F AVX512_VNNI FMA, in other operations, rebuild TensorFlow with the appropriate compiler flags.\n",
      "2023-04-26 15:04:18.841082: W tensorflow/compiler/tf2tensorrt/utils/py_utils.cc:38] TF-TRT Warning: Could not find TensorRT\n"
     ]
    }
   ],
   "source": [
    "import numpy as np\n",
    "import pandas as pd\n",
    "import matplotlib.pyplot as plt\n",
    "from math import sqrt\n",
    "from keras.models import Sequential\n",
    "from keras.layers import Dense, Activation\n",
    "from keras.optimizers import Adam\n",
    "from keras.models import load_model\n",
    "from keras.layers import Dropout"
   ]
  },
  {
   "attachments": {},
   "cell_type": "markdown",
   "metadata": {},
   "source": [
    "#### Pre-Processing"
   ]
  },
  {
   "cell_type": "code",
   "execution_count": 2,
   "metadata": {},
   "outputs": [
    {
     "data": {
      "text/html": [
       "<div>\n",
       "<style scoped>\n",
       "    .dataframe tbody tr th:only-of-type {\n",
       "        vertical-align: middle;\n",
       "    }\n",
       "\n",
       "    .dataframe tbody tr th {\n",
       "        vertical-align: top;\n",
       "    }\n",
       "\n",
       "    .dataframe thead th {\n",
       "        text-align: right;\n",
       "    }\n",
       "</style>\n",
       "<table border=\"1\" class=\"dataframe\">\n",
       "  <thead>\n",
       "    <tr style=\"text-align: right;\">\n",
       "      <th></th>\n",
       "      <th>YEAR</th>\n",
       "      <th>MO</th>\n",
       "      <th>DY</th>\n",
       "      <th>T2M_MAX</th>\n",
       "      <th>T2M</th>\n",
       "      <th>T2M_MIN</th>\n",
       "      <th>TS</th>\n",
       "      <th>RH2M</th>\n",
       "      <th>PS</th>\n",
       "      <th>T2MDEW</th>\n",
       "    </tr>\n",
       "  </thead>\n",
       "  <tbody>\n",
       "    <tr>\n",
       "      <th>0</th>\n",
       "      <td>1981</td>\n",
       "      <td>1</td>\n",
       "      <td>30</td>\n",
       "      <td>32.74</td>\n",
       "      <td>23.66</td>\n",
       "      <td>16.23</td>\n",
       "      <td>24.46</td>\n",
       "      <td>39.62</td>\n",
       "      <td>100.66</td>\n",
       "      <td>8.44</td>\n",
       "    </tr>\n",
       "    <tr>\n",
       "      <th>1</th>\n",
       "      <td>1981</td>\n",
       "      <td>1</td>\n",
       "      <td>31</td>\n",
       "      <td>29.87</td>\n",
       "      <td>20.52</td>\n",
       "      <td>13.20</td>\n",
       "      <td>21.29</td>\n",
       "      <td>24.56</td>\n",
       "      <td>100.78</td>\n",
       "      <td>-3.58</td>\n",
       "    </tr>\n",
       "    <tr>\n",
       "      <th>2</th>\n",
       "      <td>1981</td>\n",
       "      <td>2</td>\n",
       "      <td>1</td>\n",
       "      <td>28.83</td>\n",
       "      <td>18.56</td>\n",
       "      <td>9.97</td>\n",
       "      <td>19.13</td>\n",
       "      <td>17.00</td>\n",
       "      <td>101.13</td>\n",
       "      <td>-7.96</td>\n",
       "    </tr>\n",
       "    <tr>\n",
       "      <th>3</th>\n",
       "      <td>1981</td>\n",
       "      <td>2</td>\n",
       "      <td>2</td>\n",
       "      <td>29.18</td>\n",
       "      <td>18.76</td>\n",
       "      <td>9.08</td>\n",
       "      <td>19.08</td>\n",
       "      <td>20.62</td>\n",
       "      <td>101.13</td>\n",
       "      <td>-5.92</td>\n",
       "    </tr>\n",
       "    <tr>\n",
       "      <th>4</th>\n",
       "      <td>1981</td>\n",
       "      <td>2</td>\n",
       "      <td>3</td>\n",
       "      <td>32.55</td>\n",
       "      <td>21.55</td>\n",
       "      <td>10.51</td>\n",
       "      <td>20.84</td>\n",
       "      <td>16.69</td>\n",
       "      <td>100.90</td>\n",
       "      <td>-6.55</td>\n",
       "    </tr>\n",
       "  </tbody>\n",
       "</table>\n",
       "</div>"
      ],
      "text/plain": [
       "   YEAR  MO  DY  T2M_MAX    T2M  T2M_MIN     TS   RH2M      PS  T2MDEW\n",
       "0  1981   1  30    32.74  23.66    16.23  24.46  39.62  100.66    8.44\n",
       "1  1981   1  31    29.87  20.52    13.20  21.29  24.56  100.78   -3.58\n",
       "2  1981   2   1    28.83  18.56     9.97  19.13  17.00  101.13   -7.96\n",
       "3  1981   2   2    29.18  18.76     9.08  19.08  20.62  101.13   -5.92\n",
       "4  1981   2   3    32.55  21.55    10.51  20.84  16.69  100.90   -6.55"
      ]
     },
     "execution_count": 2,
     "metadata": {},
     "output_type": "execute_result"
    }
   ],
   "source": [
    "df = pd.read_csv('../Dataset/Ahemdabad.csv', skiprows = 15)\n",
    "df.head()"
   ]
  },
  {
   "cell_type": "code",
   "execution_count": 3,
   "metadata": {},
   "outputs": [],
   "source": [
    "df['YEAR'] = df.YEAR.astype(str)\n",
    "df['MO'] = df.MO.astype(str)\n",
    "df['DY'] = df.DY.astype(str)\n",
    "\n",
    "df['dateTime'] = df['YEAR'].str.cat(df['MO'])\n",
    "df['dateTime'] = df['dateTime'].str.cat(df['DY'])\n",
    "\n",
    "df.drop(['YEAR', 'MO', 'DY'], axis=1, inplace=True)"
   ]
  },
  {
   "cell_type": "code",
   "execution_count": 4,
   "metadata": {},
   "outputs": [
    {
     "data": {
      "text/html": [
       "<div>\n",
       "<style scoped>\n",
       "    .dataframe tbody tr th:only-of-type {\n",
       "        vertical-align: middle;\n",
       "    }\n",
       "\n",
       "    .dataframe tbody tr th {\n",
       "        vertical-align: top;\n",
       "    }\n",
       "\n",
       "    .dataframe thead th {\n",
       "        text-align: right;\n",
       "    }\n",
       "</style>\n",
       "<table border=\"1\" class=\"dataframe\">\n",
       "  <thead>\n",
       "    <tr style=\"text-align: right;\">\n",
       "      <th></th>\n",
       "      <th>T2M_MAX</th>\n",
       "      <th>T2M</th>\n",
       "      <th>T2M_MIN</th>\n",
       "      <th>TS</th>\n",
       "      <th>RH2M</th>\n",
       "      <th>PS</th>\n",
       "      <th>T2MDEW</th>\n",
       "    </tr>\n",
       "    <tr>\n",
       "      <th>dateTime</th>\n",
       "      <th></th>\n",
       "      <th></th>\n",
       "      <th></th>\n",
       "      <th></th>\n",
       "      <th></th>\n",
       "      <th></th>\n",
       "      <th></th>\n",
       "    </tr>\n",
       "  </thead>\n",
       "  <tbody>\n",
       "    <tr>\n",
       "      <th>1981-01-30</th>\n",
       "      <td>32.74</td>\n",
       "      <td>23.66</td>\n",
       "      <td>16.23</td>\n",
       "      <td>24.46</td>\n",
       "      <td>39.62</td>\n",
       "      <td>100.66</td>\n",
       "      <td>8.44</td>\n",
       "    </tr>\n",
       "    <tr>\n",
       "      <th>1981-01-31</th>\n",
       "      <td>29.87</td>\n",
       "      <td>20.52</td>\n",
       "      <td>13.20</td>\n",
       "      <td>21.29</td>\n",
       "      <td>24.56</td>\n",
       "      <td>100.78</td>\n",
       "      <td>-3.58</td>\n",
       "    </tr>\n",
       "    <tr>\n",
       "      <th>1981-02-01</th>\n",
       "      <td>28.83</td>\n",
       "      <td>18.56</td>\n",
       "      <td>9.97</td>\n",
       "      <td>19.13</td>\n",
       "      <td>17.00</td>\n",
       "      <td>101.13</td>\n",
       "      <td>-7.96</td>\n",
       "    </tr>\n",
       "    <tr>\n",
       "      <th>1981-02-02</th>\n",
       "      <td>29.18</td>\n",
       "      <td>18.76</td>\n",
       "      <td>9.08</td>\n",
       "      <td>19.08</td>\n",
       "      <td>20.62</td>\n",
       "      <td>101.13</td>\n",
       "      <td>-5.92</td>\n",
       "    </tr>\n",
       "    <tr>\n",
       "      <th>1981-02-03</th>\n",
       "      <td>32.55</td>\n",
       "      <td>21.55</td>\n",
       "      <td>10.51</td>\n",
       "      <td>20.84</td>\n",
       "      <td>16.69</td>\n",
       "      <td>100.90</td>\n",
       "      <td>-6.55</td>\n",
       "    </tr>\n",
       "  </tbody>\n",
       "</table>\n",
       "</div>"
      ],
      "text/plain": [
       "            T2M_MAX    T2M  T2M_MIN     TS   RH2M      PS  T2MDEW\n",
       "dateTime                                                         \n",
       "1981-01-30    32.74  23.66    16.23  24.46  39.62  100.66    8.44\n",
       "1981-01-31    29.87  20.52    13.20  21.29  24.56  100.78   -3.58\n",
       "1981-02-01    28.83  18.56     9.97  19.13  17.00  101.13   -7.96\n",
       "1981-02-02    29.18  18.76     9.08  19.08  20.62  101.13   -5.92\n",
       "1981-02-03    32.55  21.55    10.51  20.84  16.69  100.90   -6.55"
      ]
     },
     "execution_count": 4,
     "metadata": {},
     "output_type": "execute_result"
    }
   ],
   "source": [
    "df['dateTime'] = pd.to_datetime(df['dateTime'], format = '%Y%m%d')\n",
    "df.set_index('dateTime', inplace = True)\n",
    "df.head()"
   ]
  },
  {
   "cell_type": "code",
   "execution_count": 5,
   "metadata": {},
   "outputs": [
    {
     "data": {
      "text/html": [
       "<div>\n",
       "<style scoped>\n",
       "    .dataframe tbody tr th:only-of-type {\n",
       "        vertical-align: middle;\n",
       "    }\n",
       "\n",
       "    .dataframe tbody tr th {\n",
       "        vertical-align: top;\n",
       "    }\n",
       "\n",
       "    .dataframe thead th {\n",
       "        text-align: right;\n",
       "    }\n",
       "</style>\n",
       "<table border=\"1\" class=\"dataframe\">\n",
       "  <thead>\n",
       "    <tr style=\"text-align: right;\">\n",
       "      <th></th>\n",
       "      <th>tempMax</th>\n",
       "      <th>temp</th>\n",
       "      <th>tempMin</th>\n",
       "      <th>earthSkin</th>\n",
       "      <th>relativeHumidity</th>\n",
       "      <th>pressure</th>\n",
       "      <th>dew</th>\n",
       "    </tr>\n",
       "    <tr>\n",
       "      <th>dateTime</th>\n",
       "      <th></th>\n",
       "      <th></th>\n",
       "      <th></th>\n",
       "      <th></th>\n",
       "      <th></th>\n",
       "      <th></th>\n",
       "      <th></th>\n",
       "    </tr>\n",
       "  </thead>\n",
       "  <tbody>\n",
       "    <tr>\n",
       "      <th>1981-01-30</th>\n",
       "      <td>32.74</td>\n",
       "      <td>23.66</td>\n",
       "      <td>16.23</td>\n",
       "      <td>24.46</td>\n",
       "      <td>39.62</td>\n",
       "      <td>100.66</td>\n",
       "      <td>8.44</td>\n",
       "    </tr>\n",
       "    <tr>\n",
       "      <th>1981-01-31</th>\n",
       "      <td>29.87</td>\n",
       "      <td>20.52</td>\n",
       "      <td>13.20</td>\n",
       "      <td>21.29</td>\n",
       "      <td>24.56</td>\n",
       "      <td>100.78</td>\n",
       "      <td>-3.58</td>\n",
       "    </tr>\n",
       "    <tr>\n",
       "      <th>1981-02-01</th>\n",
       "      <td>28.83</td>\n",
       "      <td>18.56</td>\n",
       "      <td>9.97</td>\n",
       "      <td>19.13</td>\n",
       "      <td>17.00</td>\n",
       "      <td>101.13</td>\n",
       "      <td>-7.96</td>\n",
       "    </tr>\n",
       "    <tr>\n",
       "      <th>1981-02-02</th>\n",
       "      <td>29.18</td>\n",
       "      <td>18.76</td>\n",
       "      <td>9.08</td>\n",
       "      <td>19.08</td>\n",
       "      <td>20.62</td>\n",
       "      <td>101.13</td>\n",
       "      <td>-5.92</td>\n",
       "    </tr>\n",
       "    <tr>\n",
       "      <th>1981-02-03</th>\n",
       "      <td>32.55</td>\n",
       "      <td>21.55</td>\n",
       "      <td>10.51</td>\n",
       "      <td>20.84</td>\n",
       "      <td>16.69</td>\n",
       "      <td>100.90</td>\n",
       "      <td>-6.55</td>\n",
       "    </tr>\n",
       "  </tbody>\n",
       "</table>\n",
       "</div>"
      ],
      "text/plain": [
       "            tempMax   temp  tempMin  earthSkin  relativeHumidity  pressure   \n",
       "dateTime                                                                     \n",
       "1981-01-30    32.74  23.66    16.23      24.46             39.62    100.66  \\\n",
       "1981-01-31    29.87  20.52    13.20      21.29             24.56    100.78   \n",
       "1981-02-01    28.83  18.56     9.97      19.13             17.00    101.13   \n",
       "1981-02-02    29.18  18.76     9.08      19.08             20.62    101.13   \n",
       "1981-02-03    32.55  21.55    10.51      20.84             16.69    100.90   \n",
       "\n",
       "             dew  \n",
       "dateTime          \n",
       "1981-01-30  8.44  \n",
       "1981-01-31 -3.58  \n",
       "1981-02-01 -7.96  \n",
       "1981-02-02 -5.92  \n",
       "1981-02-03 -6.55  "
      ]
     },
     "execution_count": 5,
     "metadata": {},
     "output_type": "execute_result"
    }
   ],
   "source": [
    "df.rename(columns= {'T2M_MAX':'tempMax', 'T2M':'temp', 'T2M_MIN':'tempMin', 'TS':'earthSkin','RH2M':'relativeHumidity','PS':'pressure','T2MDEW':'dew'}, inplace = True)\n",
    "df.head()"
   ]
  },
  {
   "cell_type": "code",
   "execution_count": 6,
   "metadata": {},
   "outputs": [
    {
     "data": {
      "text/plain": [
       "(15390, 6)"
      ]
     },
     "execution_count": 6,
     "metadata": {},
     "output_type": "execute_result"
    }
   ],
   "source": [
    "X = df.drop('tempMax', axis = 1)\n",
    "\n",
    "X.head()\n",
    "X.shape"
   ]
  },
  {
   "cell_type": "code",
   "execution_count": 7,
   "metadata": {},
   "outputs": [
    {
     "data": {
      "text/plain": [
       "dateTime\n",
       "1981-01-30    32.74\n",
       "1981-01-31    29.87\n",
       "1981-02-01    28.83\n",
       "1981-02-02    29.18\n",
       "1981-02-03    32.55\n",
       "              ...  \n",
       "2023-03-16    34.98\n",
       "2023-03-17    36.15\n",
       "2023-03-18    36.38\n",
       "2023-03-19    35.37\n",
       "2023-03-20    33.74\n",
       "Name: tempMax, Length: 15390, dtype: float64"
      ]
     },
     "execution_count": 7,
     "metadata": {},
     "output_type": "execute_result"
    }
   ],
   "source": [
    "y = df['tempMax']\n",
    "y\n"
   ]
  },
  {
   "cell_type": "code",
   "execution_count": 8,
   "metadata": {},
   "outputs": [],
   "source": [
    "from sklearn.model_selection import train_test_split\n",
    "\n",
    "X_train, X_test, y_train, y_test = train_test_split(X, y, test_size = 0.25, shuffle = False)"
   ]
  },
  {
   "cell_type": "code",
   "execution_count": 9,
   "metadata": {},
   "outputs": [],
   "source": [
    "from sklearn.preprocessing import MinMaxScaler\n",
    "scaler=MinMaxScaler(feature_range = (0,1))\n",
    "scaler.fit(X_train)\n",
    "\n",
    "X_train_scaled = scaler.transform(X_train)\n",
    "X_test_scaled = scaler.transform(X_test)"
   ]
  },
  {
   "cell_type": "markdown",
   "metadata": {},
   "source": [
    "#### Architecture"
   ]
  },
  {
   "cell_type": "code",
   "execution_count": 10,
   "metadata": {},
   "outputs": [],
   "source": [
    "model = Sequential()\n",
    "model.add(Dense(128, input_dim=X.shape[1], activation='relu'))\n",
    "model.add(Dense(128, activation = 'relu'))\n",
    "model.add(Dense(64, activation = 'relu'))\n",
    "#Output layer\n",
    "model.add(Dense(1, activation = 'linear'))"
   ]
  },
  {
   "cell_type": "code",
   "execution_count": 11,
   "metadata": {},
   "outputs": [
    {
     "ename": "TypeError",
     "evalue": "Invalid keyword argument(s) in `compile()`: ({'validation_data'},). Valid keyword arguments include \"cloning\", \"experimental_run_tf_function\", \"distribute\", \"target_tensors\", or \"sample_weight_mode\".",
     "output_type": "error",
     "traceback": [
      "\u001b[0;31m---------------------------------------------------------------------------\u001b[0m",
      "\u001b[0;31mTypeError\u001b[0m                                 Traceback (most recent call last)",
      "Cell \u001b[0;32mIn[11], line 1\u001b[0m\n\u001b[0;32m----> 1\u001b[0m model\u001b[39m.\u001b[39;49mcompile(loss\u001b[39m=\u001b[39;49m\u001b[39m'\u001b[39;49m\u001b[39mmean_squared_error\u001b[39;49m\u001b[39m'\u001b[39;49m, optimizer\u001b[39m=\u001b[39;49m\u001b[39m'\u001b[39;49m\u001b[39madam\u001b[39;49m\u001b[39m'\u001b[39;49m, metrics\u001b[39m=\u001b[39;49m[\u001b[39m'\u001b[39;49m\u001b[39mmae\u001b[39;49m\u001b[39m'\u001b[39;49m], validation_data\u001b[39m=\u001b[39;49m(X_test, y_test))\n\u001b[1;32m      2\u001b[0m model\u001b[39m.\u001b[39msummary()\n",
      "File \u001b[0;32m~/.local/lib/python3.10/site-packages/keras/utils/traceback_utils.py:70\u001b[0m, in \u001b[0;36mfilter_traceback.<locals>.error_handler\u001b[0;34m(*args, **kwargs)\u001b[0m\n\u001b[1;32m     67\u001b[0m     filtered_tb \u001b[39m=\u001b[39m _process_traceback_frames(e\u001b[39m.\u001b[39m__traceback__)\n\u001b[1;32m     68\u001b[0m     \u001b[39m# To get the full stack trace, call:\u001b[39;00m\n\u001b[1;32m     69\u001b[0m     \u001b[39m# `tf.debugging.disable_traceback_filtering()`\u001b[39;00m\n\u001b[0;32m---> 70\u001b[0m     \u001b[39mraise\u001b[39;00m e\u001b[39m.\u001b[39mwith_traceback(filtered_tb) \u001b[39mfrom\u001b[39;00m \u001b[39mNone\u001b[39;00m\n\u001b[1;32m     71\u001b[0m \u001b[39mfinally\u001b[39;00m:\n\u001b[1;32m     72\u001b[0m     \u001b[39mdel\u001b[39;00m filtered_tb\n",
      "File \u001b[0;32m~/.local/lib/python3.10/site-packages/keras/engine/training.py:3597\u001b[0m, in \u001b[0;36mModel._validate_compile\u001b[0;34m(self, optimizer, metrics, **kwargs)\u001b[0m\n\u001b[1;32m   3595\u001b[0m invalid_kwargs \u001b[39m=\u001b[39m \u001b[39mset\u001b[39m(kwargs) \u001b[39m-\u001b[39m {\u001b[39m\"\u001b[39m\u001b[39msample_weight_mode\u001b[39m\u001b[39m\"\u001b[39m}\n\u001b[1;32m   3596\u001b[0m \u001b[39mif\u001b[39;00m invalid_kwargs:\n\u001b[0;32m-> 3597\u001b[0m     \u001b[39mraise\u001b[39;00m \u001b[39mTypeError\u001b[39;00m(\n\u001b[1;32m   3598\u001b[0m         \u001b[39m\"\u001b[39m\u001b[39mInvalid keyword argument(s) in `compile()`: \u001b[39m\u001b[39m\"\u001b[39m\n\u001b[1;32m   3599\u001b[0m         \u001b[39mf\u001b[39m\u001b[39m\"\u001b[39m\u001b[39m{\u001b[39;00m(invalid_kwargs,)\u001b[39m}\u001b[39;00m\u001b[39m. Valid keyword arguments include \u001b[39m\u001b[39m\"\u001b[39m\n\u001b[1;32m   3600\u001b[0m         \u001b[39m'\u001b[39m\u001b[39m\"\u001b[39m\u001b[39mcloning\u001b[39m\u001b[39m\"\u001b[39m\u001b[39m, \u001b[39m\u001b[39m\"\u001b[39m\u001b[39mexperimental_run_tf_function\u001b[39m\u001b[39m\"\u001b[39m\u001b[39m, \u001b[39m\u001b[39m\"\u001b[39m\u001b[39mdistribute\u001b[39m\u001b[39m\"\u001b[39m\u001b[39m,\u001b[39m\u001b[39m'\u001b[39m\n\u001b[1;32m   3601\u001b[0m         \u001b[39m'\u001b[39m\u001b[39m \u001b[39m\u001b[39m\"\u001b[39m\u001b[39mtarget_tensors\u001b[39m\u001b[39m\"\u001b[39m\u001b[39m, or \u001b[39m\u001b[39m\"\u001b[39m\u001b[39msample_weight_mode\u001b[39m\u001b[39m\"\u001b[39m\u001b[39m.\u001b[39m\u001b[39m'\u001b[39m\n\u001b[1;32m   3602\u001b[0m     )\n\u001b[1;32m   3604\u001b[0m \u001b[39m# Model must be created and compiled with the same DistStrat.\u001b[39;00m\n\u001b[1;32m   3605\u001b[0m \u001b[39mif\u001b[39;00m \u001b[39mself\u001b[39m\u001b[39m.\u001b[39mbuilt \u001b[39mand\u001b[39;00m tf\u001b[39m.\u001b[39mdistribute\u001b[39m.\u001b[39mhas_strategy():\n",
      "\u001b[0;31mTypeError\u001b[0m: Invalid keyword argument(s) in `compile()`: ({'validation_data'},). Valid keyword arguments include \"cloning\", \"experimental_run_tf_function\", \"distribute\", \"target_tensors\", or \"sample_weight_mode\"."
     ]
    }
   ],
   "source": [
    "model.compile(loss='mean_squared_error', optimizer='adam', metrics=['mae'])\n",
    "model.summary()\n"
   ]
  },
  {
   "cell_type": "code",
   "execution_count": null,
   "metadata": {},
   "outputs": [],
   "source": [
    "history = model.fit(X_train_scaled, y_train, validation_split=0.25, epochs =120)"
   ]
  },
  {
   "cell_type": "code",
   "execution_count": null,
   "metadata": {},
   "outputs": [],
   "source": [
    "loss = history.history['loss']\n",
    "val_loss = history.history['val_loss']\n",
    "epochs = range(1, len(loss) + 1)\n",
    "plt.rcParams[\"figure.figsize\"] = (20,5)\n",
    "plt.plot(epochs, loss, 'y', label='Training loss')\n",
    "plt.plot(epochs, val_loss, 'r', label='Validation loss')\n",
    "plt.title('Training and validation loss')\n",
    "plt.xlabel('Epochs')\n",
    "plt.ylabel('Loss')\n",
    "plt.legend()\n",
    "plt.show()"
   ]
  },
  {
   "cell_type": "code",
   "execution_count": null,
   "metadata": {},
   "outputs": [],
   "source": [
    "acc = history.history['mae']\n",
    "val_acc = history.history['val_mae']\n",
    "plt.rcParams[\"figure.figsize\"] = (20,5)\n",
    "plt.plot(epochs, acc, 'y', label='Training MAE')\n",
    "plt.plot(epochs, val_acc, 'r', label='Validation MAE')\n",
    "plt.title('Training and validation MAE')\n",
    "plt.xlabel('Epochs')\n",
    "plt.ylabel('Accuracy')\n",
    "plt.legend()\n",
    "plt.show()"
   ]
  },
  {
   "attachments": {},
   "cell_type": "markdown",
   "metadata": {},
   "source": [
    "#### Prediction"
   ]
  },
  {
   "cell_type": "code",
   "execution_count": null,
   "metadata": {},
   "outputs": [],
   "source": [
    "#Predict on test data\n",
    "y_pred = model.predict(X_test_scaled)\n",
    "print(\"Predicted values are: \", y_pred)\n",
    "print(\"Real values are: \", y_test)"
   ]
  },
  {
   "cell_type": "code",
   "execution_count": null,
   "metadata": {},
   "outputs": [],
   "source": [
    "T = range(y_pred.shape[0])"
   ]
  },
  {
   "cell_type": "code",
   "execution_count": null,
   "metadata": {},
   "outputs": [],
   "source": [
    "plt.plot(T, y_pred[:])\n",
    "plt.plot(T, y_test[:])\n",
    "plt.rcParams[\"figure.figsize\"] = (200,50)\n",
    "plt.title('Maximum Temprature')\n",
    "plt.xlabel('Values')"
   ]
  },
  {
   "cell_type": "code",
   "execution_count": null,
   "metadata": {},
   "outputs": [],
   "source": [
    "from sklearn.metrics import mean_absolute_error, mean_squared_error\n",
    "\n",
    "Temp_mae = mean_absolute_error(y_pred, y_test)\n",
    "print(Temp_mae)\n",
    "\n",
    "print(mean_squared_error(y_pred, y_test))\n",
    "print(sqrt(mean_squared_error(y_pred, y_test)))"
   ]
  }
 ],
 "metadata": {
  "kernelspec": {
   "display_name": "Python 3",
   "language": "python",
   "name": "python3"
  },
  "language_info": {
   "codemirror_mode": {
    "name": "ipython",
    "version": 3
   },
   "file_extension": ".py",
   "mimetype": "text/x-python",
   "name": "python",
   "nbconvert_exporter": "python",
   "pygments_lexer": "ipython3",
   "version": "3.10.10"
  },
  "orig_nbformat": 4
 },
 "nbformat": 4,
 "nbformat_minor": 2
}
